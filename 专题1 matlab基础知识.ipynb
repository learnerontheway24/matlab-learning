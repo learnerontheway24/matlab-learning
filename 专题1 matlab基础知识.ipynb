{
 "cells": [
  {
   "cell_type": "markdown",
   "metadata": {},
   "source": [
    "# 1-1系统环境tips"
   ]
  },
  {
   "cell_type": "markdown",
   "metadata": {},
   "source": [
    "**续行符**：...，打在命令的后面，则可以换行以后不立即执行命令，而将下一行的键入内容也视作和上一行相同的命令整体（命令太长的时候用来换行）。"
   ]
  },
  {
   "cell_type": "markdown",
   "metadata": {},
   "source": [
    "**当前文件夹的设置**——cd命令，e.g.cd path（文件夹路径）"
   ]
  },
  {
   "cell_type": "markdown",
   "metadata": {},
   "source": [
    "注意：先建立文件夹，再将文件夹设置为当前文件夹（不能设置不存在的文件夹为当前文件夹）"
   ]
  },
  {
   "cell_type": "markdown",
   "metadata": {},
   "source": [
    "**matlab的搜索路径**：  \n",
    "变量$\\to$内部函数$\\to$程序文件（当前文件夹下的程序文件$\\to$文件搜索路径文件夹中的程序文件）"
   ]
  },
  {
   "cell_type": "markdown",
   "metadata": {},
   "source": [
    "**如何设置文件搜索路径**：  \n",
    "用path命令设置：path(path,'文件夹路径')  \n",
    "用对话框设置文件搜索路径：“主页”$\\to$ “设置路径”"
   ]
  },
  {
   "cell_type": "markdown",
   "metadata": {},
   "source": [
    "# 1-2matlab数值数据"
   ]
  },
  {
   "cell_type": "markdown",
   "metadata": {},
   "source": [
    "## (1)整型"
   ]
  },
  {
   "cell_type": "markdown",
   "metadata": {},
   "source": [
    "uint8将数值数据转换为无符号8位整数（最大值255），int8函数将数值数据转换为带符号8位整数（最大为127）"
   ]
  },
  {
   "cell_type": "markdown",
   "metadata": {},
   "source": [
    "## (2)浮点型"
   ]
  },
  {
   "cell_type": "markdown",
   "metadata": {},
   "source": [
    "single函数：其他数据转换为单精度型  \n",
    "double函数：其他数据转换为双精度型"
   ]
  },
  {
   "cell_type": "markdown",
   "metadata": {},
   "source": [
    "## (3)复型"
   ]
  },
  {
   "cell_type": "markdown",
   "metadata": {},
   "source": [
    "实部虚部，默认双精度型，i、j表示虚数单位"
   ]
  },
  {
   "cell_type": "markdown",
   "metadata": {},
   "source": [
    "real函数：求实部  \n",
    "imag函数：求虚部"
   ]
  },
  {
   "cell_type": "markdown",
   "metadata": {},
   "source": [
    "## 数值数据的输出格式——format"
   ]
  },
  {
   "cell_type": "markdown",
   "metadata": {},
   "source": [
    "只影响数据的输出格式不影响数据的计算和存储"
   ]
  },
  {
   "cell_type": "markdown",
   "metadata": {},
   "source": [
    "**三角函数角度、弧度为单位，用d以示区别**：  \n",
    "sin(pi/2)  \n",
    "ans=  \n",
    "    1   \n",
    "sind(90)  \n",
    "ans=\n",
    "    1 "
   ]
  },
  {
   "cell_type": "markdown",
   "metadata": {},
   "source": [
    "**abs**:  \n",
    "实数绝对值、复数的模、字符串的ASCII码值"
   ]
  },
  {
   "cell_type": "markdown",
   "metadata": {},
   "source": [
    "**用于取整的函数**：  \n",
    "fix、floor、ceil、round"
   ]
  },
  {
   "cell_type": "markdown",
   "metadata": {},
   "source": [
    "round：四舍五入  \n",
    "ceil：向上取整，取大于等于该数的第一个整数  \n",
    "floor：向下取整  \n",
    "fix：固定取靠近0的那个证书，即舍去小数取整"
   ]
  },
  {
   "cell_type": "markdown",
   "metadata": {},
   "source": [
    "**应用举例**：  \n",
    "求$[1,100]$区间的所有素数：\n",
    "isprime函数判断是否素数，是素数返回1，否则返回0  \n",
    "x = 1:100;  \n",
    "k=isprime(x);  \n",
    "k1=find(k);                  #k1向量为k向量中非0向量的序号\n",
    "p=x(k1)  \n",
    "p= \n",
    "输出结果"
   ]
  },
  {
   "cell_type": "markdown",
   "metadata": {},
   "source": [
    "# 1-3变量及其操作"
   ]
  },
  {
   "cell_type": "markdown",
   "metadata": {},
   "source": [
    "变量名以字母开头，后接字母、数字或下划线"
   ]
  },
  {
   "cell_type": "markdown",
   "metadata": {},
   "source": [
    "**预定义变量**：  \n",
    "ans是默认赋值变量  \n",
    "i和j表示虚数单位  \n",
    "pi代表圆周率  \n",
    "NaN表示非数  "
   ]
  },
  {
   "cell_type": "markdown",
   "metadata": {},
   "source": [
    "**who和whos分别查看变量名称和变量详细信息**"
   ]
  },
  {
   "cell_type": "markdown",
   "metadata": {},
   "source": [
    "**内存变量文件**：.mat,（MAT文件）"
   ]
  },
  {
   "cell_type": "markdown",
   "metadata": {},
   "source": [
    "save命令：创建内存变量文件  \n",
    "load命令：装入内存变量文件"
   ]
  },
  {
   "cell_type": "markdown",
   "metadata": {},
   "source": [
    "## 1-4矩阵表示"
   ]
  },
  {
   "cell_type": "markdown",
   "metadata": {},
   "source": [
    "**矩阵建立**：  \n",
    "直接建立；现有矩阵进行拼接（都是放在中括号里面进行）"
   ]
  },
  {
   "cell_type": "markdown",
   "metadata": {},
   "source": [
    "**产生行向量**：  \n",
    "（1)直接用起始值：步长：终值来产生；  \n",
    "（2）linspace函数：linspace（第一个元素，最后一个元素，元素总数），元素总数省略时自动产生100个元素"
   ]
  },
  {
   "cell_type": "markdown",
   "metadata": {},
   "source": [
    "**结构矩阵和单元矩阵**：  \n",
    "***结构矩阵***： \n",
    "结构矩阵元素.成员名=表达式  \n",
    "a(1).x1=10;a(1).x2='liu';a(1).x3=$[11,21;34,78]$;  \n",
    "a(2).x1=12;a(2).x2='wang';a(2).x3=$[34,191;27,578]$;  \n",
    "a(3).x1=12;a(3).x2='cai';a(3).x3=$[13,890;67,231]$;  "
   ]
  },
  {
   "cell_type": "markdown",
   "metadata": {},
   "source": [
    "***单元矩阵***：  \n",
    "直接输入即可建立，但是元素要用大括号括起来。  \n",
    "b = {10,'liu',$[11,21;34,78]$;12,'wang',$[34,191;27,578]$;...  \n",
    "14,'cai',$[13,890;67,231]$}  \n",
    "b=  \n",
    "$[10]$ 'liu' [$2\\times 2$ double]  \n",
    "$[12]$ 'wang' [$2\\times 2$ double]   \n",
    "$[14]$ 'cai' [$2\\times 2$ double] "
   ]
  },
  {
   "cell_type": "markdown",
   "metadata": {},
   "source": [
    "## 1-5矩阵元素的引用"
   ]
  },
  {
   "cell_type": "markdown",
   "metadata": {},
   "source": [
    "**sub2ind函数和ind2sub函数**  \n",
    "sub2ind函数举例:  \n",
    "A=$[1:3;4:6]$  \n",
    "A=  \n",
    "1 2 3   \n",
    "4 5 6  \n",
    "D=sub2ind(size(A),$[1,2;2,2]$,$[1,1;3,2]$)      \n",
    "D=  \n",
    "1 2   \n",
    "6 4   \n",
    "    \n",
    "#size（A）表示A是几行几列的，后面的第一个矩阵中国元素表示对应需要的行，第二个矩阵中元素表示对应需要的列，则第一个矩阵第一个元素1，和第二个矩阵第一个元素1，联合起来就表示要得到矩阵A中1行1列的元素，并将其置于一个$2\\times 2$的矩阵的第一个元素的位置（新矩阵的格式也是参照函数参数中的矩阵的格式）"
   ]
  },
  {
   "cell_type": "markdown",
   "metadata": {},
   "source": [
    "ind2sub函数举例：  \n",
    "$[I,J]$=ind2sub($[3,3]$,$[1,3,5]$)  #表示需要求一个3行3列的矩阵的第1个、第3个、第5个元素的下标   \n",
    "I=  \n",
    "1 3 2  \n",
    "J=  \n",
    "1 2 2\n",
    "  \n",
    "命令执行结果表明，3行3列矩阵的第1个、第3个、第5个元素的下标分别为（1，1）、（3，2）、（2，2），亦即I矩阵表示行标、J矩阵表示列标"
   ]
  },
  {
   "cell_type": "markdown",
   "metadata": {},
   "source": [
    "**利用冒号表达式获得子矩阵**：  \n",
    "类似于python中的切片，但是不同于python的是并非用中括号，而是用（）放在矩阵后面来索引。"
   ]
  },
  {
   "cell_type": "markdown",
   "metadata": {},
   "source": [
    "end运算符：表示某一维的末尾元素下标"
   ]
  },
  {
   "cell_type": "markdown",
   "metadata": {},
   "source": [
    "**删除矩阵元素**：  \n",
    "利用空矩阵：  \n",
    "例子：  \n",
    "A=$[一些元素]$；  \n",
    "A(:,$[2,4]$)=$[]$   #表示将A矩阵中的2、4列的元素都删除"
   ]
  },
  {
   "cell_type": "markdown",
   "metadata": {},
   "source": [
    "**改变矩阵的形状**:  \n",
    "reshape(A,m,n)保证总元素不变的情况下，将矩阵A重新排成$m\\times n$的二维矩阵"
   ]
  },
  {
   "cell_type": "markdown",
   "metadata": {},
   "source": [
    "***注意:元素的存储顺序、内容都不会改变***"
   ]
  },
  {
   "cell_type": "markdown",
   "metadata": {},
   "source": [
    "A(:)将矩阵A的每一列元素堆叠起来成为一个列向量"
   ]
  },
  {
   "cell_type": "markdown",
   "metadata": {},
   "source": [
    "## 1-6matlab基本运算"
   ]
  },
  {
   "cell_type": "markdown",
   "metadata": {},
   "source": [
    "**需要注意的地方**:  \n",
    "两种矩阵除法运算，右除/和左除\\  \n",
    "A矩阵非奇异，则B/A等效于B\\*inv（A），A\\B等效于inv（A）\\*B"
   ]
  },
  {
   "cell_type": "markdown",
   "metadata": {},
   "source": [
    "注意：对于矩阵运算，这两种除法一般结果不同，但是对于标量而言，结果是相同的"
   ]
  },
  {
   "cell_type": "markdown",
   "metadata": {},
   "source": [
    "点运算：元素级别运算"
   ]
  },
  {
   "cell_type": "markdown",
   "metadata": {},
   "source": [
    "**关系运算符**：  \n",
    "<、<=、>、>=、==、$\\sim=$"
   ]
  },
  {
   "cell_type": "markdown",
   "metadata": {},
   "source": [
    "比较以后的结果：true：1；false：0"
   ]
  },
  {
   "cell_type": "markdown",
   "metadata": {},
   "source": [
    "**逻辑运算**:  \n",
    "&、|、$\\sim$   \n",
    "参与运算的是标量或者同型矩阵"
   ]
  },
  {
   "cell_type": "markdown",
   "metadata": {},
   "source": [
    "## 1-7字符串处理"
   ]
  },
  {
   "cell_type": "markdown",
   "metadata": {},
   "source": [
    "单引号括起来的字符序列即为字符串，元素的话就是里面的字母（和python一样），字符串里面有单引号，那么就用两个单引号来表示。  \n",
    "注：matlab的切片和python不一样，不是从0开始的，而且也没有不包括终值位置的规则"
   ]
  },
  {
   "cell_type": "markdown",
   "metadata": {},
   "source": [
    "**字符串比较函数用于判断字符串是否相等，有四种比较方式**：  \n",
    "strcmp(s1,s2)：用来比较字符串s1和s2是否相等，如果相等，返回结果为1，否则返回0  \n",
    "strncmp(s1,s2,n)：用来比较两个字符串前n个字符是否相等，如果相等，返回1，否则返回0  \n",
    "strcmpi(s1,s2)：在忽略字母大小写前提下，比较字符串s1和s2是否相等，如果相等，返回1，否则返回0  \n",
    "strncmpi(s1,s2,n)：在忽略字符串大小写前提下，比较两个字符串前n个字符是否相等，如果相等，返回1，否则返回0"
   ]
  },
  {
   "cell_type": "markdown",
   "metadata": {},
   "source": [
    "**字符串的查找与替换**：  \n",
    "findstr(s1,s2)：返回短字符串在长字符串中的开始位置  \n",
    "strrep(s1,s2,s3):将字符串s1中的所有子字符串s2替换为字符串s3"
   ]
  }
 ],
 "metadata": {
  "kernelspec": {
   "display_name": "Python 3",
   "language": "python",
   "name": "python3"
  },
  "language_info": {
   "codemirror_mode": {
    "name": "ipython",
    "version": 3
   },
   "file_extension": ".py",
   "mimetype": "text/x-python",
   "name": "python",
   "nbconvert_exporter": "python",
   "pygments_lexer": "ipython3",
   "version": "3.6.5"
  },
  "toc": {
   "base_numbering": 1,
   "nav_menu": {},
   "number_sections": true,
   "sideBar": true,
   "skip_h1_title": false,
   "title_cell": "Table of Contents",
   "title_sidebar": "Contents",
   "toc_cell": false,
   "toc_position": {},
   "toc_section_display": true,
   "toc_window_display": false
  }
 },
 "nbformat": 4,
 "nbformat_minor": 2
}
