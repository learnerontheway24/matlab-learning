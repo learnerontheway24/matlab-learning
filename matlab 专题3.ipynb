{
 "cells": [
  {
   "cell_type": "markdown",
   "metadata": {},
   "source": [
    "# 专题3-1 顺序结构程序"
   ]
  },
  {
   "cell_type": "markdown",
   "metadata": {},
   "source": [
    "程序结构——顺序、选择、循环结构"
   ]
  },
  {
   "cell_type": "markdown",
   "metadata": {},
   "source": [
    "脚本文件（命令行直接执行）、函数文件（需要调用）"
   ]
  },
  {
   "cell_type": "markdown",
   "metadata": {},
   "source": [
    "例子："
   ]
  },
  {
   "cell_type": "markdown",
   "metadata": {},
   "source": [
    "1.建立脚本文件f1.m：  \n",
    ">> A=[1,2,3;4,5,6];  \n",
    ">> B=[1,2;3,4;5,6];  \n",
    ">> C=A*B  "
   ]
  },
  {
   "cell_type": "markdown",
   "metadata": {},
   "source": [
    "在命令行窗口运行脚本文件：f1，即可输出C矩阵"
   ]
  },
  {
   "cell_type": "markdown",
   "metadata": {},
   "source": [
    "2.建立函数文件f2.m（注意文件名称和函数名称要一致）：  \n",
    "function C = f2(A,B)  \n",
    "C=A*B；  "
   ]
  },
  {
   "cell_type": "markdown",
   "metadata": {},
   "source": [
    "在命令行窗口调用函数文件：  \n",
    ">>A=[1,2,3;4,5,6];  \n",
    ">>B=[1,2;3,4;5,6];  \n",
    ">>C=f2(A,B)  "
   ]
  },
  {
   "cell_type": "markdown",
   "metadata": {},
   "source": [
    "从而可以输出矩阵C"
   ]
  },
  {
   "cell_type": "markdown",
   "metadata": {},
   "source": [
    "## 顺序结构 输入、处理、输出"
   ]
  },
  {
   "cell_type": "markdown",
   "metadata": {},
   "source": [
    "（1）数据的输入：  \n",
    "A=input(提示信息，选项);  \n",
    ">>A=input('请输入变量A的值:');"
   ]
  },
  {
   "cell_type": "markdown",
   "metadata": {},
   "source": [
    "那么屏幕上就会显示提示信息  \n",
    "请输入变量A的值："
   ]
  },
  {
   "cell_type": "markdown",
   "metadata": {},
   "source": [
    "然后输入的值就会被赋给A"
   ]
  },
  {
   "cell_type": "markdown",
   "metadata": {},
   "source": [
    "（2）数据的输出  \n",
    "disp(输出项);  \n",
    ">>s='Hello, World';  \n",
    ">>disp(s)"
   ]
  },
  {
   "cell_type": "markdown",
   "metadata": {},
   "source": [
    "Hello,World"
   ]
  },
  {
   "cell_type": "markdown",
   "metadata": {},
   "source": [
    ">>a=[1,2,3;4,5,6];  \n",
    ">>disp(a)  "
   ]
  },
  {
   "cell_type": "markdown",
   "metadata": {},
   "source": [
    "1 2 3  \n",
    "4 5 6"
   ]
  },
  {
   "cell_type": "markdown",
   "metadata": {},
   "source": [
    "（3）程序的暂停  \n",
    "pause(延迟秒数)  \n",
    "若要强行中止程序的运行可使用Ctrl+C命令"
   ]
  },
  {
   "cell_type": "markdown",
   "metadata": {},
   "source": [
    "# 专题3-2 用if语句实现选择结构"
   ]
  },
  {
   "cell_type": "markdown",
   "metadata": {},
   "source": [
    "## 单分支if语句"
   ]
  },
  {
   "cell_type": "markdown",
   "metadata": {},
   "source": [
    "语句格式：  \n",
    "if条件  \n",
    "  语句组  \n",
    "end  "
   ]
  },
  {
   "cell_type": "markdown",
   "metadata": {},
   "source": [
    "当条件结果为标量时， 非零表示条件成立，零表示条件不成立"
   ]
  },
  {
   "cell_type": "markdown",
   "metadata": {},
   "source": [
    "当条件结果为矩阵时，如矩阵为非空， 且不包含零元素则条件成立 ，否则不成立。"
   ]
  },
  {
   "cell_type": "markdown",
   "metadata": {},
   "source": [
    "## 双分支if语句"
   ]
  },
  {
   "cell_type": "markdown",
   "metadata": {},
   "source": [
    "语句格式：  \n",
    "if 条件  \n",
    "     语句组1   \n",
    "else    \n",
    "     语句组2    \n",
    "end   "
   ]
  },
  {
   "cell_type": "markdown",
   "metadata": {},
   "source": [
    "## 多分支if语句"
   ]
  },
  {
   "cell_type": "markdown",
   "metadata": {},
   "source": [
    "语句格式：  \n",
    "if 条件1  \n",
    "      语句组1   \n",
    "elseif 条件2  \n",
    "      语句组2    \n",
    "     ...   \n",
    "elseif 条件m  \n",
    "      语句组m   \n",
    "else    \n",
    "      语句组n   \n",
    "end   "
   ]
  },
  {
   "cell_type": "markdown",
   "metadata": {},
   "source": [
    "# 专题3-3 用switch语句实现选择结构"
   ]
  },
  {
   "cell_type": "markdown",
   "metadata": {},
   "source": [
    "switch语句的格式：  \n",
    "switch表达式  \n",
    "  case 结果表1  \n",
    "    语句组1        \n",
    "  case 结果表2   \n",
    "    语句组2     \n",
    "    ...   \n",
    "  case 结果表m   \n",
    "    语句组m    \n",
    "  otherwise    \n",
    "    语句组n    \n",
    "end    "
   ]
  },
  {
   "cell_type": "markdown",
   "metadata": {},
   "source": [
    "注意，case后面如果是多选的话，要记得用大括号{}"
   ]
  },
  {
   "cell_type": "markdown",
   "metadata": {},
   "source": [
    "num2cell函数"
   ]
  },
  {
   "cell_type": "markdown",
   "metadata": {},
   "source": [
    "# 专题3-4 用for语句实现循环结构"
   ]
  },
  {
   "cell_type": "markdown",
   "metadata": {},
   "source": [
    "## for语句"
   ]
  },
  {
   "cell_type": "markdown",
   "metadata": {},
   "source": [
    "for语句格式：  \n",
    "for  循环变量=表达式1（初值）：表达式2（步长，默认为1）：表达式3（终值）   \n",
    "     循环体语句   \n",
    "end   "
   ]
  },
  {
   "cell_type": "markdown",
   "metadata": {},
   "source": [
    "说明：针对向量的每一个元素执行一次循环体"
   ]
  },
  {
   "cell_type": "markdown",
   "metadata": {},
   "source": [
    "for语句的循环变量也可以是一个列向量，其格式为：  \n",
    "for循环变量=矩阵表达式  \n",
    "   循环体语句   \n",
    "end   "
   ]
  },
  {
   "cell_type": "markdown",
   "metadata": {},
   "source": [
    "# 专题3-5 while语句实现循环结构"
   ]
  },
  {
   "cell_type": "markdown",
   "metadata": {},
   "source": [
    "while语句格式如下：  \n",
    "while 条件  \n",
    "    循环体语句    \n",
    "end"
   ]
  },
  {
   "cell_type": "markdown",
   "metadata": {},
   "source": [
    "while语句多用于循环次数不确定的情况，而对于循环次数确定的情况，使用for语句更方便"
   ]
  },
  {
   "cell_type": "markdown",
   "metadata": {},
   "source": [
    "break语句用来跳出循环，结束**整个**循环  \n",
    "continue语句用来结束**本次**循环，接着进行下一次是否执行循环的判断。  "
   ]
  },
  {
   "cell_type": "markdown",
   "metadata": {},
   "source": [
    "# 专题3-6 函数文件的定义与调用"
   ]
  },
  {
   "cell_type": "markdown",
   "metadata": {},
   "source": [
    "函数文件的基本结构：   \n",
    "function 输出形参表=函数名（输入形参表）  \n",
    "注释说明部分  \n",
    "函数体语句   "
   ]
  },
  {
   "cell_type": "markdown",
   "metadata": {},
   "source": [
    "注意：函数文件名通常由函数名再加上扩展名.m组成，函数文件名与函数名也可以不相同（不相同的时候就忽略函数名，调用的时候使用函数文件名，一般建议统一名称）"
   ]
  },
  {
   "cell_type": "markdown",
   "metadata": {},
   "source": [
    "return语句表示结束函数的执行（也可以不使用return）"
   ]
  },
  {
   "cell_type": "markdown",
   "metadata": {},
   "source": [
    "## 函数调用"
   ]
  },
  {
   "cell_type": "markdown",
   "metadata": {},
   "source": [
    "[输出实参表]=函数名（输入实参表）  \n",
    "在调用函数时，函数输入输出参数成为实际参数，简称实参。   "
   ]
  },
  {
   "cell_type": "markdown",
   "metadata": {},
   "source": [
    "## 匿名函数"
   ]
  },
  {
   "cell_type": "markdown",
   "metadata": {},
   "source": [
    "基本格式：  \n",
    "函数句柄变量=@(匿名函数输入参数)匿名函数表达式    \n",
    "多个输入参数之间用逗号分隔"
   ]
  },
  {
   "cell_type": "markdown",
   "metadata": {},
   "source": [
    "函数句柄变量=@函数名    \n",
    "这些函数名包括颞部函数或自定义函数"
   ]
  },
  {
   "cell_type": "markdown",
   "metadata": {},
   "source": [
    "例如：  \n",
    "h=@sin   \n",
    "此时输入命令h(pi/2)实际上就相当于输入函数sin(pi/2)，从而输出相应结果"
   ]
  },
  {
   "cell_type": "markdown",
   "metadata": {},
   "source": [
    "# 专题3-7 函数的递归调用"
   ]
  },
  {
   "cell_type": "markdown",
   "metadata": {},
   "source": [
    "一个函数调用它自身称为函数的递归调用"
   ]
  },
  {
   "cell_type": "markdown",
   "metadata": {},
   "source": [
    "例子：  \n",
    "function f = fact(n)  \n",
    "...    \n",
    "fact(n-1)    \n",
    "..."
   ]
  },
  {
   "cell_type": "markdown",
   "metadata": {},
   "source": [
    "##  直接递归"
   ]
  },
  {
   "cell_type": "markdown",
   "metadata": {},
   "source": [
    "f函数中调用f函数"
   ]
  },
  {
   "cell_type": "markdown",
   "metadata": {},
   "source": [
    "## 间接递归调用"
   ]
  },
  {
   "cell_type": "markdown",
   "metadata": {},
   "source": [
    "f1函数中嵌套调用f2函数，而f2函数中又对f1函数进行了调用"
   ]
  },
  {
   "cell_type": "markdown",
   "metadata": {},
   "source": [
    "# 专题3-8 函数参数与变量的作用域"
   ]
  },
  {
   "cell_type": "markdown",
   "metadata": {},
   "source": [
    "## 函数参数的可调性"
   ]
  },
  {
   "cell_type": "markdown",
   "metadata": {},
   "source": [
    "nargin$\\to$ 输入实参的个数   \n",
    "nargout$\\to$ 输出实参的个数  "
   ]
  },
  {
   "cell_type": "markdown",
   "metadata": {},
   "source": [
    "例子：建立函数文件test.m     \n",
    "function fout = test(a,b,c)  \n",
    "if nargin==1  \n",
    "   fout=a;     \n",
    "elseif  nargin==2  \n",
    "   fout=a+b    \n",
    "elseif  nargin==3   \n",
    "   fout=(a\\*b\\*c)/2;   \n",
    "end"
   ]
  },
  {
   "cell_type": "markdown",
   "metadata": {},
   "source": [
    "局部变量：程序中只在特定过程或函数中可以访问的变量   "
   ]
  },
  {
   "cell_type": "markdown",
   "metadata": {},
   "source": [
    "全局变量：作用域是整个matlab工作空间，也就是全程有效，所有的函数都可以对它进行存取和修改"
   ]
  },
  {
   "cell_type": "markdown",
   "metadata": {},
   "source": [
    "全局变量定义格式：  \n",
    "global  变量名"
   ]
  }
 ],
 "metadata": {
  "kernelspec": {
   "display_name": "Python 3",
   "language": "python",
   "name": "python3"
  },
  "language_info": {
   "codemirror_mode": {
    "name": "ipython",
    "version": 3
   },
   "file_extension": ".py",
   "mimetype": "text/x-python",
   "name": "python",
   "nbconvert_exporter": "python",
   "pygments_lexer": "ipython3",
   "version": "3.6.5"
  },
  "toc": {
   "base_numbering": 1,
   "nav_menu": {},
   "number_sections": true,
   "sideBar": true,
   "skip_h1_title": false,
   "title_cell": "Table of Contents",
   "title_sidebar": "Contents",
   "toc_cell": false,
   "toc_position": {},
   "toc_section_display": true,
   "toc_window_display": false
  }
 },
 "nbformat": 4,
 "nbformat_minor": 2
}
