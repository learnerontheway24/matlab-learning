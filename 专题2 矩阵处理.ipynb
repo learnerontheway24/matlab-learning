{
 "cells": [
  {
   "cell_type": "markdown",
   "metadata": {},
   "source": [
    "# 2-1 特殊矩阵"
   ]
  },
  {
   "cell_type": "markdown",
   "metadata": {},
   "source": [
    "zeros函数  \n",
    "ones函数  \n",
    "eye函数-对角线为1的矩阵  \n",
    "rand函数：（0，1）区间均匀分布的随机矩阵  \n",
    "randn函数：产生均值为0，方差为1的标准正态分布随机矩阵  "
   ]
  },
  {
   "cell_type": "markdown",
   "metadata": {},
   "source": [
    "**一个例子**\n",
    ">> A=fix(10+(99-10+1)*rand(5));    #产生5行5列随机矩阵，其值是10-99之间的随机整数（即两位整数矩阵）  \n",
    ">> B=0.6+sqrt(0.1)*randn(5);       #产生5行5列正态分布随机矩阵，均值为0.6，方差为0.1  \n",
    ">> C=eye(5);                       #产生5阶单位阵  \n",
    ">> (A+B)*C==C*A+B*C  \n",
    "\n",
    "ans =  \n",
    "\n",
    "  5×5 logical 数组  \n",
    "\n",
    "   1   1   1   1   1  \n",
    "   1   1   1   1   1  \n",
    "   1   1   1   1   1  \n",
    "   1   1   1   1   1  \n",
    "   1   1   1   1   1  \n"
   ]
  },
  {
   "cell_type": "markdown",
   "metadata": {},
   "source": [
    "## 用于专门学科的特殊矩阵\n",
    "**幻方/魔方矩阵**  magic"
   ]
  },
  {
   "cell_type": "markdown",
   "metadata": {},
   "source": [
    "**范德蒙矩阵**  vander   各种通信系统的编码"
   ]
  },
  {
   "cell_type": "markdown",
   "metadata": {},
   "source": [
    "**希尔伯特矩阵**  hilb"
   ]
  },
  {
   "cell_type": "markdown",
   "metadata": {},
   "source": [
    "**伴随矩阵**  compan(p)    其中p是一个多项式的系数向量，高次幂系数排在前，低次幂系数排在后"
   ]
  },
  {
   "cell_type": "markdown",
   "metadata": {},
   "source": [
    "**帕斯卡矩阵** pascal"
   ]
  },
  {
   "cell_type": "markdown",
   "metadata": {},
   "source": [
    "# 2-2 矩阵变换"
   ]
  },
  {
   "cell_type": "markdown",
   "metadata": {},
   "source": [
    "**对角阵**：  \n",
    "diag(V)：以向量V为主对角线元素，产生对角矩阵  \n",
    "diag(V,k)：以向量V为第k条对角线元素，产生对角矩阵  "
   ]
  },
  {
   "cell_type": "markdown",
   "metadata": {},
   "source": [
    "**例子**:  \n",
    "先建立5×5矩阵A，然后将A的第一行元素乘以1，第二行乘以2，…，第五行乘以5。  \n",
    "\n",
    ">> A=$[7,0,1,0,5;3,5,7,4,1;4,0,3,0,2;1,1,9,2,3;1,8,5,2,9]$  \n",
    "A =   \n",
    "    7 0 1 0 5   \n",
    "    3 5 7 4 1    \n",
    "    4 0 3 0 2    \n",
    "    1 1 9 2 3 \n",
    "    1 8 5 2 9    \n",
    ">> D=diag(1:5);      \n",
    ">> D*A    \n",
    "ans =    \n",
    "    7  0  1 0 5    \n",
    "    6 10 14 8 2   \n",
    "    12 0 9  0 6    \n",
    "    4 4 36 8 12    \n",
    "    5 40 25 10 45   "
   ]
  },
  {
   "cell_type": "markdown",
   "metadata": {},
   "source": [
    "**三角阵**  \n",
    "上三角   \n",
    "triu(A):提取矩阵A的主对角线及以上的元素   \n",
    "triu(A,k):提取矩阵A的第k条对角线及以上的元素  \n",
    "下三角  \n",
    "tril"
   ]
  },
  {
   "cell_type": "markdown",
   "metadata": {},
   "source": [
    "**矩阵的转置**:  \n",
    ".'  \n",
    "***共轭转置***：  \n",
    "‘  \n",
    "在转置的基础上还要取每个数的复共轭  "
   ]
  },
  {
   "cell_type": "markdown",
   "metadata": {},
   "source": [
    "**矩阵的旋转**：  \n",
    "rot90(A,k):将矩阵A逆时针旋转$90^。$的k倍，当k=1时可以省略"
   ]
  },
  {
   "cell_type": "markdown",
   "metadata": {},
   "source": [
    "**矩阵的翻转**：  \n",
    "fliplr(A)：对矩阵A实施左右翻转  \n",
    "flipud(A)：对矩阵A实施上下翻转"
   ]
  },
  {
   "cell_type": "markdown",
   "metadata": {},
   "source": [
    "**矩阵的求逆**：  \n",
    "inv(A)  \n",
    "用求逆矩阵的方法可以求线性方程组  "
   ]
  },
  {
   "cell_type": "markdown",
   "metadata": {},
   "source": [
    "# 2-3矩阵求值"
   ]
  },
  {
   "cell_type": "markdown",
   "metadata": {},
   "source": [
    "**方阵的行列式**：  \n",
    "det(A)  "
   ]
  },
  {
   "cell_type": "markdown",
   "metadata": {},
   "source": [
    "**矩阵的秩**：  \n",
    "rank(A)  "
   ]
  },
  {
   "cell_type": "markdown",
   "metadata": {},
   "source": [
    "**矩阵的迹**：  \n",
    "trace(A)  "
   ]
  },
  {
   "cell_type": "markdown",
   "metadata": {},
   "source": [
    "**向量和矩阵的范数**:用来度量矩阵或向量在某种意义下的长度  \n",
    "norm(V)或者norm(V,2):计算向量V的2—范数  \n",
    "norm(V,1):计算向量V的1—范数  \n",
    "norm(V,inf):计算向量V的$\\infty$—范数"
   ]
  },
  {
   "cell_type": "markdown",
   "metadata": {},
   "source": [
    "**矩阵的条件数**：  \n",
    "A的范数与A的逆矩阵的范数的乘积  \n",
    "条件数越接近于1，矩阵的性能越好，反之，矩阵的性能越差。  \n",
    "cond(A,1):计算向量A的1—范数下的条件数  \n",
    "cond(A)或cond(A,2)：计算向量A的2—范数下的条件数  \n",
    "cond(A,inf)：计算向量A的$\\infty$—范数下的条件数 "
   ]
  },
  {
   "cell_type": "markdown",
   "metadata": {},
   "source": [
    "# 2-4矩阵的特征值与特征向量"
   ]
  },
  {
   "cell_type": "markdown",
   "metadata": {},
   "source": [
    "**函数调用格式有两种**：  \n",
    "E=eig(A):求矩阵A的全部特征值，构成向量E  \n",
    "$[X,D]$=eig(A):求矩阵A的全部特征值，构成对角阵D，并产生矩阵X，X各列是相应的特征向量"
   ]
  },
  {
   "cell_type": "markdown",
   "metadata": {},
   "source": [
    "# 2-4稀疏矩阵"
   ]
  },
  {
   "cell_type": "markdown",
   "metadata": {},
   "source": [
    "**稀疏存储方式**：  \n",
    "相比完全存储方式，只会存储矩阵中非0元素及其位置（节省空间）  "
   ]
  },
  {
   "cell_type": "markdown",
   "metadata": {},
   "source": [
    "**稀疏存储方式的产生**：  \n",
    "A=sparse(S):将矩阵S转化为稀疏存储方式的矩阵A  \n",
    "S=full(A): 将矩阵A转化为完全存储方式的矩阵S"
   ]
  },
  {
   "cell_type": "markdown",
   "metadata": {},
   "source": [
    "**直接建立稀疏存储矩阵**：  \n",
    "sparse函数的其他调用格式：   \n",
    "sparse(m,n): ：生成一个$m\\times n$的所有元素都是零的稀疏矩阵。  \n",
    "sparse(u,v,S): ：其中 u、v、S是3个等长的向量。 S是要建立的稀疏存储矩阵的非零元素， u( i)、v( i)分别是S( i)的行和列下标。"
   ]
  },
  {
   "cell_type": "markdown",
   "metadata": {},
   "source": [
    "spconvert函数可以直接建立稀疏存储矩阵，其调用格式为：  B=spconvert（A）"
   ]
  },
  {
   "cell_type": "markdown",
   "metadata": {},
   "source": [
    "**带状稀疏矩阵的稀疏存储**：  \n",
    "$[B,d]=spdiags(A)$:：从带状稀疏矩阵A中提取全部非零对角线元素赋给矩阵B及其这些非零对角线的位置向量d。  \n",
    "A=spdiags(B,d,m,n): ：产生带状稀疏矩阵的存储A，其中 m、n为原带状稀疏矩阵的行数与列，B的第i列即为原带状稀疏矩阵的第i条非零对角线，向量d为原带状 稀疏矩阵所有非零对角线的位置"
   ]
  }
 ],
 "metadata": {
  "kernelspec": {
   "display_name": "Python 3",
   "language": "python",
   "name": "python3"
  },
  "language_info": {
   "codemirror_mode": {
    "name": "ipython",
    "version": 3
   },
   "file_extension": ".py",
   "mimetype": "text/x-python",
   "name": "python",
   "nbconvert_exporter": "python",
   "pygments_lexer": "ipython3",
   "version": "3.6.5"
  },
  "toc": {
   "base_numbering": 1,
   "nav_menu": {},
   "number_sections": true,
   "sideBar": true,
   "skip_h1_title": false,
   "title_cell": "Table of Contents",
   "title_sidebar": "Contents",
   "toc_cell": false,
   "toc_position": {},
   "toc_section_display": true,
   "toc_window_display": false
  }
 },
 "nbformat": 4,
 "nbformat_minor": 2
}
